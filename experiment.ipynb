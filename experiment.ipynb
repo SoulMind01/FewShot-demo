{
 "cells": [
  {
   "cell_type": "code",
   "execution_count": 1,
   "metadata": {},
   "outputs": [
    {
     "name": "stdout",
     "output_type": "stream",
     "text": [
      "c:\\Users\\11709\\anaconda3\\python.exe\n"
     ]
    }
   ],
   "source": [
    "from train import *"
   ]
  },
  {
   "cell_type": "markdown",
   "metadata": {},
   "source": [
    "normal class: 0"
   ]
  },
  {
   "cell_type": "code",
   "execution_count": 2,
   "metadata": {},
   "outputs": [],
   "source": [
    "args = ARGUMENTS(\n",
    "    model_type=\"FASHION_VGG3\",\n",
    "    normal_class=0,\n",
    "    num_ref=10,\n",
    "    num_ref_eval=5,\n",
    "    lr=1e-4,\n",
    "    vector_size=2048,\n",
    "    weight_decay=0.001,\n",
    "    seed=1001,\n",
    "    weight_init_seed=1001,\n",
    "    alpha=0.1,\n",
    "    k=1,\n",
    "    epochs=10,\n",
    "    contamination=0,\n",
    "    batch_size=1,\n",
    "    biases=1,\n",
    "    num_ref_dist=None,\n",
    ")"
   ]
  },
  {
   "cell_type": "markdown",
   "metadata": {},
   "source": [
    "## Find the best hyperparameters"
   ]
  },
  {
   "cell_type": "code",
   "execution_count": null,
   "metadata": {},
   "outputs": [],
   "source": [
    "results = {}\n",
    "results['df'], results['auc'], results['f1'], results['spec'], results['recall'], results['acc'] = [], [], [], [], [], []\n",
    "class_range = range(2)\n",
    "for normal_class in class_range:\n",
    "    args.normal_class = normal_class\n",
    "    df, auc, f1, spec, recall, acc = train(args)\n",
    "    results['df'].append(df)\n",
    "    results['auc'].append(auc)\n",
    "    results['f1'].append(f1)\n",
    "    results['spec'].append(spec)\n",
    "    results['recall'].append(recall)\n",
    "    results['acc'].append(acc)"
   ]
  },
  {
   "cell_type": "code",
   "execution_count": null,
   "metadata": {},
   "outputs": [],
   "source": [
    "# Create histogram\n",
    "thres = np.percentile(df[\"minimum_dists\"], 10)\n",
    "for label in df[\"label\"].unique():\n",
    "      plt.hist(df[df[\"label\"] == label][\"minimum_dists\"], alpha=0.5, label=label, bins=100)\n",
    "plt.legend()\n",
    "plt.title(f\"Distance histogram for class\\nAUC: {auc:.2f}, F1: {f1:.2f}, Spec: {spec:.2f}, Recall: {recall:.2f}, Acc: {acc:.2f}\")\n",
    "plt.axvline(x=thres, color=\"r\", linestyle=\"--\")\n",
    "plt.show()"
   ]
  }
 ],
 "metadata": {
  "kernelspec": {
   "display_name": "base",
   "language": "python",
   "name": "python3"
  },
  "language_info": {
   "codemirror_mode": {
    "name": "ipython",
    "version": 3
   },
   "file_extension": ".py",
   "mimetype": "text/x-python",
   "name": "python",
   "nbconvert_exporter": "python",
   "pygments_lexer": "ipython3",
   "version": "3.11.5"
  }
 },
 "nbformat": 4,
 "nbformat_minor": 2
}
