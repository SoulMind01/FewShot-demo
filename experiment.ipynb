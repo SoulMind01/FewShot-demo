{
 "cells": [
  {
   "cell_type": "code",
   "execution_count": 1,
   "metadata": {},
   "outputs": [
    {
     "name": "stdout",
     "output_type": "stream",
     "text": [
      "c:\\Users\\11709\\anaconda3\\python.exe\n"
     ]
    }
   ],
   "source": [
    "import sys\n",
    "import os\n",
    "def is_colab():\n",
    "  for key in os.environ.keys():\n",
    "    if 'COLAB' in key:\n",
    "      return True\n",
    "      break\n",
    "  return False\n",
    "if is_colab():\n",
    "  !git clone https://github.com/SoulMind01/FewShot-demo.git\n",
    "  # Get the current working directory\n",
    "  current_working_directory = os.getcwd()\n",
    "  # Add the \"my_folder\" folder to the import path\n",
    "  sys.path.append(current_working_directory + \"/FewShot-demo\")\n",
    "  from google.colab import drive\n",
    "  drive.mount('/content/drive')\n",
    "google_drive_path = '/content/drive/MyDrive/FewShot-demo'\n",
    "from train import *\n",
    "import warnings\n",
    "warnings.filterwarnings('ignore', 'The parameter \\'pretrained\\' is deprecated')\n",
    "warnings.filterwarnings('ignore', 'Arguments other than a weight enum or `None` for \\'weights\\' are deprecated')"
   ]
  },
  {
   "cell_type": "markdown",
   "metadata": {},
   "source": [
    "## Define arguments"
   ]
  },
  {
   "cell_type": "code",
   "execution_count": 28,
   "metadata": {},
   "outputs": [],
   "source": [
    "def init_args() -> ARGUMENTS:\n",
    "    args = ARGUMENTS(\n",
    "        normal_class=7,\n",
    "        num_ref=10,\n",
    "        num_ref_eval=5, # size of reference set while testing\n",
    "        lr=1e-5,\n",
    "        vector_size=1024,\n",
    "        weight_decay=0.001, #done\n",
    "        seed=42,\n",
    "        weight_init_seed=42,\n",
    "        alpha=0.15, # done\n",
    "        k=3, # size of reference set while training\n",
    "        epochs=10,\n",
    "        contamination=0, # done\n",
    "        batch_size=1,\n",
    "        biases=1,\n",
    "        dataset='fashion',\n",
    "        distance_method='multi',\n",
    "        model = VGG16(vector_size=1024, biases=1, dataset_name='cifar10')\n",
    "    )\n",
    "    return args\n",
    "\n",
    "def reset_args(args: ARGUMENTS) -> ARGUMENTS:\n",
    "    args.normal_class = 7\n",
    "    args.num_ref = 10\n",
    "    args.num_ref_eval = 5\n",
    "    args.lr = 1e-5\n",
    "    args.vector_size = 1024\n",
    "    args.weight_decay = 0.001\n",
    "    args.seed = 42\n",
    "    args.weight_init_seed = 42\n",
    "    args.alpha = 0.15\n",
    "    args.k = 3\n",
    "    args.epochs = 10\n",
    "    args.contamination = 0\n",
    "    args.batch_size = 1\n",
    "    args.biases = 1\n",
    "    args.dataset = 'fashion'\n",
    "    args.distance_method = 'multi'\n",
    "    return args\n",
    "\n",
    "def analyze_result(results: dict, feature_name: str, selected_performances: list = None, x_axis: list = None):\n",
    "    plt.figure(figsize=(10, 8))\n",
    "    markers = ['o', 's', 'D', 'x', '^', 'v', '<', '>', 'p', 'h', '+', '1', '2', '3', '4', '8', 's', 'p', '*', 'h', 'H', 'D', 'd', 'P', 'X']\n",
    "    for key, value in results.items():\n",
    "        if key == 'df' or 'df' in key: continue\n",
    "        if selected_performances is not None and key not in selected_performances:\n",
    "            continue\n",
    "        if x_axis is not None:\n",
    "            plt.plot(x_axis, value, label=key, marker=markers.pop(0))\n",
    "        else:\n",
    "            plt.plot(value, label=key, marker=markers.pop(0))\n",
    "    plt.legend(loc='upper left', bbox_to_anchor=(1,1))\n",
    "    plt.title(f\"Performance along {feature_name}\")\n",
    "    plt.grid()\n",
    "\n",
    "def analyze_results(results: dict, x_axis: list, feature_name: str, x_log_scale: bool = False):\n",
    "    plt.figure(figsize=(16, 4))\n",
    "    plt.suptitle(f\"Performance along {feature_name}\")\n",
    "    markers = ['o', 's', 'D', 'x', '^', 'v', '<', '>', 'p', 'h', '+', '1', '2', '3', '4', '8', 's', 'p', '*', 'h', 'H', 'D', 'd', 'P', 'X']\n",
    "    for dataset, dataset_results in results.items():\n",
    "        plt.subplot(1, 3, list(results.keys()).index(dataset) + 1)\n",
    "        plt.title(f\"{dataset.capitalize()}\")\n",
    "        for key, value in dataset_results.items():\n",
    "            if key == 'df' or 'df' in key: continue\n",
    "            if x_log_scale:\n",
    "                plt.semilogx(x_axis, value, label=key, marker=markers.pop(0))\n",
    "            else:\n",
    "                plt.plot(x_axis, value, label=key, marker=markers.pop(0))\n",
    "        plt.legend(loc='upper left', bbox_to_anchor=(1,1))\n",
    "        plt.subplots_adjust(wspace=0.5)\n",
    "\n",
    "def plot_hist(results: dict):\n",
    "    # select the best index according to the f1 score\n",
    "    best_index = np.argmax(results['f1'])\n",
    "    tmp_df = results['df'][best_index]\n",
    "    plt.figure(figsize=(10, 8))\n",
    "    thres = np.percentile(tmp_df[\"minimum_dists\"], 10)\n",
    "    for label in tmp_df[\"label\"].unique():\n",
    "        plt.hist(tmp_df[tmp_df[\"label\"] == label][\"minimum_dists\"], alpha=0.5, label=label, bins=100)\n",
    "    plt.axvline(x=thres, color=\"r\", linestyle=\"--\")\n",
    "    plt.ylabel('Count')\n",
    "    plt.xlabel('Anomaly Score')\n",
    "    plt.legend(loc='upper left', bbox_to_anchor=(1,1))\n",
    "    plt.title(\"Anomaly Score Distribution\")\n",
    "    plt.grid()\n",
    "\n",
    "def init_result_dicts():\n",
    "    features = ['df', 'auc', 'f1', 'spec', 'recall', 'acc']\n",
    "    datasets = ['fashion', 'mnist', 'cifar10']\n",
    "    result_dicts = {}\n",
    "    for dataset in datasets:\n",
    "        result_dicts[dataset] = {}\n",
    "        for feature in features:\n",
    "            result_dicts[dataset][feature] = []\n",
    "    return result_dicts\n",
    "\n",
    "def save_results(results: dict, save_path: str):\n",
    "    for dataset in ['fashion', 'mnist', 'cifar10']:\n",
    "        if not os.path.exists(f\"{save_path}/{dataset}\"):\n",
    "            os.makedirs(f\"{save_path}/{dataset}\")\n",
    "        for key, value in results[dataset].items():\n",
    "            if key == 'df': continue\n",
    "            # save the results\n",
    "            np.save(f\"{save_path}/{dataset}/{key}.npy\", value)\n",
    "\n",
    "def load_results(results_path: str) -> dict:\n",
    "    results = {}\n",
    "    for dataset in ['fashion', 'mnist', 'cifar10']:\n",
    "        results[dataset] = {}\n",
    "        for feature in ['auc', 'f1', 'spec', 'recall', 'acc']:\n",
    "            results[dataset][feature] = np.load(f\"{results_path}/{dataset}/{feature}.npy\", allow_pickle=True)\n",
    "    return results\n",
    "\n",
    "def do_experiment(\n",
    "        args: ARGUMENTS, \n",
    "        experiment_name: str, \n",
    "        feature_name: str, \n",
    "        feature_range: list, \n",
    "        num_test_data: int = 0, \n",
    "        class_range: list = np.arange(0, 10, 1), \n",
    "        quick_run: bool = False,\n",
    "        test_experiment: bool = False\n",
    "        ):\n",
    "    results = init_result_dicts()\n",
    "    if os.path.exists(experiment_name):\n",
    "        results = load_results(experiment_name)\n",
    "    else:\n",
    "        for feature in feature_range:\n",
    "            for dataset in results.keys():\n",
    "                avg_auc, avg_f1, avg_spec, avg_recall, avg_acc = 0, 0, 0, 0, 0\n",
    "                best_df = None\n",
    "                best_auc = 0\n",
    "                for class_ in class_range:\n",
    "                    reset_args(args)\n",
    "                    if not 'class' in feature_name:\n",
    "                        args.normal_class = class_\n",
    "                    args.dataset = dataset\n",
    "                    setattr(args, feature_name, feature)\n",
    "                    if test_experiment:\n",
    "                        df, auc, f1, spec, recall, acc = 1,2,3,4,5,6\n",
    "                    else:\n",
    "                        df, auc, f1, spec, recall, acc = train(args, num_test_data)\n",
    "                    if quick_run: return\n",
    "\n",
    "                    best_df = df if auc > best_auc else best_df\n",
    "                    best_auc = auc if auc > best_auc else best_auc\n",
    "\n",
    "                    avg_auc += auc\n",
    "                    avg_f1 += f1\n",
    "                    avg_spec += spec\n",
    "                    avg_recall += recall\n",
    "                    avg_acc += acc\n",
    "                \n",
    "                results[dataset]['df'].append(best_df)\n",
    "                results[dataset]['auc'].append(avg_auc / 10)\n",
    "                results[dataset]['f1'].append(avg_f1 / 10)\n",
    "                results[dataset]['spec'].append(avg_spec / 10)\n",
    "                results[dataset]['recall'].append(avg_recall / 10)\n",
    "                results[dataset]['acc'].append(avg_acc / 10)\n",
    "\n",
    "    report_results(results, experiment_name, feature_name, feature_range)\n",
    "\n",
    "def report_results(results: dict, experiment_name: str, feature_name: str, feature_range: list):\n",
    "    if not os.path.exists(experiment_name):\n",
    "        os.mkdir(experiment_name)\n",
    "    analyze_results(\n",
    "        results, \n",
    "        feature_range, \n",
    "        feature_name.capitalize(), \n",
    "        x_log_scale=True if 'earning' in feature_name else False\n",
    "        )\n",
    "    plt.savefig(f\"{experiment_name}/{feature_name}_experiment.png\")\n",
    "    save_results(results, experiment_name)\n",
    "    if is_colab():\n",
    "        !cp -r $experiment_name $google_drive_path\n",
    "\n",
    "normal_classes = {'mnist': 6, 'fashion': 9, 'cifar10': 0}"
   ]
  },
  {
   "cell_type": "code",
   "execution_count": 3,
   "metadata": {},
   "outputs": [],
   "source": [
    "args = init_args()"
   ]
  },
  {
   "cell_type": "markdown",
   "metadata": {},
   "source": [
    "## Do light experiment"
   ]
  },
  {
   "cell_type": "code",
   "execution_count": 33,
   "metadata": {},
   "outputs": [
    {
     "name": "stdout",
     "output_type": "stream",
     "text": [
      "auc: 0.5012, f1: 0.9006, spec: 0.0556, recall: 0.8956, acc: 0.4756\n"
     ]
    }
   ],
   "source": [
    "args.dataset='cifar10'\n",
    "args.k = 4\n",
    "df, auc, f1, precision, recall, acc = train(args, 200)\n",
    "args = reset_args(args)"
   ]
  },
  {
   "cell_type": "markdown",
   "metadata": {},
   "source": [
    "## Do experiment along class"
   ]
  },
  {
   "cell_type": "code",
   "execution_count": null,
   "metadata": {},
   "outputs": [],
   "source": [
    "do_experiment(\n",
    "    args=args,\n",
    "    experiment_name='class_experiment',\n",
    "    feature_name='normal_class',\n",
    "    feature_range=np.arange(0, 10, 1),\n",
    "    num_test_data=500,\n",
    "    class_range=np.arange(0, 10, 1),\n",
    "    quick_run=False,\n",
    "    test_experiment=False\n",
    ")"
   ]
  },
  {
   "cell_type": "markdown",
   "metadata": {},
   "source": [
    "## Do experiment along epochs"
   ]
  },
  {
   "cell_type": "code",
   "execution_count": null,
   "metadata": {},
   "outputs": [],
   "source": [
    "epochs_range = np.arange(4, 14, 1)\n",
    "do_experiment(\n",
    "    args=args,\n",
    "    experiment_name='epochs_experiment',\n",
    "    feature_name='epochs',\n",
    "    feature_range=epochs_range,\n",
    "    num_test_data=500,\n",
    "    class_range=np.arange(0, 10, 1),\n",
    "    quick_run=False,\n",
    "    test_experiment=False\n",
    ")"
   ]
  },
  {
   "cell_type": "markdown",
   "metadata": {},
   "source": [
    "## Do experiment along alpha"
   ]
  },
  {
   "cell_type": "code",
   "execution_count": null,
   "metadata": {},
   "outputs": [],
   "source": [
    "alpha_range = np.arange(0, 1.1, 0.1)\n",
    "do_experiment(\n",
    "    args=args,\n",
    "    experiment_name='alpha_experiment',\n",
    "    feature_name='alpha',\n",
    "    feature_range=alpha_range,\n",
    "    num_test_data=500,\n",
    "    class_range=np.arange(0, 10, 1),\n",
    "    quick_run=False,\n",
    "    test_experiment=False\n",
    ")"
   ]
  },
  {
   "cell_type": "markdown",
   "metadata": {},
   "source": [
    "## Do experiment along contamination"
   ]
  },
  {
   "cell_type": "code",
   "execution_count": 16,
   "metadata": {},
   "outputs": [],
   "source": [
    "contamination_range = np.arange(0, 0.5, 0.05)\n",
    "do_experiment(\n",
    "    args=args,\n",
    "    experiment_name='contamination_experiment',\n",
    "    feature_name='contamination',\n",
    "    feature_range=contamination_range,\n",
    "    num_test_data=500,\n",
    "    class_range=np.arange(0, 10, 1),\n",
    "    quick_run=False,\n",
    "    test_experiment=False\n",
    ")"
   ]
  },
  {
   "cell_type": "markdown",
   "metadata": {},
   "source": [
    "## Do experiment along train dataset size"
   ]
  },
  {
   "cell_type": "code",
   "execution_count": 29,
   "metadata": {},
   "outputs": [],
   "source": [
    "N_range = np.arange(10, 40, 3)\n",
    "do_experiment(\n",
    "    args=args,\n",
    "    experiment_name='N_experiment',\n",
    "    feature_name='num_ref',\n",
    "    feature_range=N_range,\n",
    "    num_test_data=500,\n",
    "    class_range=np.arange(0, 10, 1),\n",
    "    quick_run=False,\n",
    "    test_experiment=False\n",
    ")"
   ]
  },
  {
   "cell_type": "markdown",
   "metadata": {},
   "source": [
    "## Do experiment along train reference dataset size"
   ]
  },
  {
   "cell_type": "code",
   "execution_count": null,
   "metadata": {},
   "outputs": [],
   "source": [
    "k_range = np.arange(1, 10, 1)\n",
    "do_experiment(\n",
    "    args=args,\n",
    "    experiment_name='k_experiment',\n",
    "    feature_name='k',\n",
    "    feature_range=k_range,\n",
    "    num_test_data=500,\n",
    "    class_range=np.arange(0, 10, 1),\n",
    "    quick_run=False,\n",
    "    test_experiment=False\n",
    ")"
   ]
  },
  {
   "cell_type": "markdown",
   "metadata": {},
   "source": [
    "## Do experiment along test reference dataset size"
   ]
  },
  {
   "cell_type": "code",
   "execution_count": null,
   "metadata": {},
   "outputs": [],
   "source": [
    "num_ref_eval_range = np.arange(1, 10, 1)\n",
    "do_experiment(\n",
    "    args=args,\n",
    "    experiment_name='num_ref_eval_experiment',\n",
    "    feature_name='num_ref_eval',\n",
    "    feature_range=num_ref_eval_range,\n",
    "    num_test_data=500,\n",
    "    class_range=np.arange(0, 10, 1),\n",
    "    quick_run=False,\n",
    "    test_experiment=False\n",
    ")"
   ]
  },
  {
   "cell_type": "markdown",
   "metadata": {},
   "source": [
    "## Do experiment along weight decay"
   ]
  },
  {
   "cell_type": "code",
   "execution_count": null,
   "metadata": {},
   "outputs": [],
   "source": [
    "weight_decay_range = np.arange(0, 1, 0.05)\n",
    "do_experiment(\n",
    "    args=args,\n",
    "    experiment_name='weight_decay_experiment',\n",
    "    feature_name='weight_decay',\n",
    "    feature_range=weight_decay_range,\n",
    "    num_test_data=500,\n",
    "    class_range=np.arange(0, 10, 1),\n",
    "    quick_run=False,\n",
    "    test_experiment=False\n",
    ")"
   ]
  },
  {
   "cell_type": "markdown",
   "metadata": {},
   "source": [
    "## Do experiment along learning rate"
   ]
  },
  {
   "cell_type": "code",
   "execution_count": null,
   "metadata": {},
   "outputs": [],
   "source": [
    "learning_rate_range = [1e-3, 1e-4, 1e-5, 1e-6, 1e-7, 1e-8, 1e-9, 1e-10, 1e-11, 1e-12]\n",
    "do_experiment(\n",
    "    args=args,\n",
    "    experiment_name='learning_rate_experiment',\n",
    "    feature_name='learning rate',\n",
    "    feature_range=learning_rate_range,\n",
    "    num_test_data=500,\n",
    "    class_range=np.arange(0, 10, 1),\n",
    "    quick_run=False,\n",
    "    test_experiment=False\n",
    ")"
   ]
  },
  {
   "cell_type": "markdown",
   "metadata": {},
   "source": [
    "## Do experiment along vector size"
   ]
  },
  {
   "cell_type": "code",
   "execution_count": null,
   "metadata": {},
   "outputs": [],
   "source": [
    "vector_size_range = np.arange(256, 4097, 256)\n",
    "do_experiment(\n",
    "    args=args,\n",
    "    experiment_name='vector_size_experiment',\n",
    "    feature_name='vector_size',\n",
    "    feature_range=vector_size_range,\n",
    "    num_test_data=500,\n",
    "    class_range=np.arange(0, 10, 1),\n",
    "    quick_run=False,\n",
    "    test_experiment=False\n",
    ")"
   ]
  },
  {
   "cell_type": "markdown",
   "metadata": {},
   "source": [
    "## Compare multi distance to L2 distance"
   ]
  },
  {
   "cell_type": "code",
   "execution_count": null,
   "metadata": {},
   "outputs": [
    {
     "name": "stdout",
     "output_type": "stream",
     "text": [
      "auc: 0.7687, f1: 0.9066, spec: 0.0625, recall: 0.8967, acc: 0.4796\n",
      "auc: 0.9314, f1: 0.9615, spec: 0.6875, recall: 0.9511, acc: 0.8193\n"
     ]
    }
   ],
   "source": [
    "# Compare the F-1 score of multi distance to L2 distance along epochs\n",
    "args = init_args()\n",
    "args.normal_class = 5\n",
    "results_compare = {}\n",
    "results_compare['df_multi'], results_compare['auc_multi'], results_compare['f1_multi'], results_compare['spec_multi'], results_compare['recall_multi'], results_compare['acc_multi'] = [], [], [], [], [], []\n",
    "results_compare['df_L2'], results_compare['auc_L2'], results_compare['f1_L2'], results_compare['spec_L2'], results_compare['recall_L2'], results_compare['acc_L2'] = [], [], [], [], [], []\n",
    "epochs_range = np.arange(4, 5, 1)\n",
    "for i, epochs in enumerate(epochs_range):\n",
    "    args.epochs = epochs\n",
    "    args.distance_method = 'multi'\n",
    "    df, auc, f1, spec, recall, acc = train(args, 200)\n",
    "    results_compare['df_multi'].append(df)\n",
    "    results_compare['auc_multi'].append(auc)\n",
    "    results_compare['f1_multi'].append(f1)\n",
    "    results_compare['spec_multi'].append(spec)\n",
    "    results_compare['recall_multi'].append(recall)\n",
    "    results_compare['acc_multi'].append(acc)\n",
    "\n",
    "    args.distance_method = 'L2'\n",
    "    df, auc, f1, spec, recall, acc = train(args, 200)\n",
    "    results_compare['df_L2'].append(df)\n",
    "    results_compare['auc_L2'].append(auc)\n",
    "    results_compare['f1_L2'].append(f1)\n",
    "    results_compare['spec_L2'].append(spec)\n",
    "    results_compare['recall_L2'].append(recall)\n",
    "    results_compare['acc_L2'].append(acc)\n",
    "    "
   ]
  },
  {
   "cell_type": "code",
   "execution_count": null,
   "metadata": {},
   "outputs": [
    {
     "data": {
      "image/png": "[encoded data removed]",
      "text/plain": [
       "<Figure size 1000x800 with 1 Axes>"
      ]
     },
     "metadata": {},
     "output_type": "display_data"
    }
   ],
   "source": []
  },
  {
   "cell_type": "markdown",
   "metadata": {},
   "source": [
    "## Do experiment along dataset"
   ]
  },
  {
   "cell_type": "code",
   "execution_count": null,
   "metadata": {},
   "outputs": [],
   "source": [
    "result_mnist, result_fashion, result_cifar10 = {}, {}, {}\n",
    "result_mnist['df'], result_mnist['auc'], result_mnist['f1'], result_mnist['spec'], result_mnist['recall'], result_mnist['acc'] = [], [], [], [], [], []\n",
    "result_fashion['df'], result_fashion['auc'], result_fashion['f1'], result_fashion['spec'], result_fashion['recall'], result_fashion['acc'] = [], [], [], [], [], []\n",
    "result_cifar10['df'], result_cifar10['auc'], result_cifar10['f1'], result_cifar10['spec'], result_cifar10['recall'], result_cifar10['acc'] = [], [], [], [], [], []\n",
    "dataset_range = ['mnist', 'fashion', 'cifar10']\n",
    "epochs_range = np.arange(3, 33, 3)\n",
    "for i, epochs in enumerate(epochs_range):\n",
    "    for dataset in dataset_range:\n",
    "        args = init_args()\n",
    "        args.epochs = epochs\n",
    "        args.dataset = dataset\n",
    "        df, auc, f1, spec, recall, acc = train(args)\n",
    "        if dataset == 'mnist':\n",
    "            result_mnist['df'].append(df)\n",
    "            result_mnist['auc'].append(auc)\n",
    "            result_mnist['f1'].append(f1)\n",
    "            result_mnist['spec'].append(spec)\n",
    "            result_mnist['recall'].append(recall)\n",
    "            result_mnist['acc'].append(acc)\n",
    "        elif dataset == 'fashion':\n",
    "            result_fashion['df'].append(df)\n",
    "            result_fashion['auc'].append(auc)\n",
    "            result_fashion['f1'].append(f1)\n",
    "            result_fashion['spec'].append(spec)\n",
    "            result_fashion['recall'].append(recall)\n",
    "            result_fashion['acc'].append(acc)\n",
    "        else:\n",
    "            result_cifar10['df'].append(df)\n",
    "            result_cifar10['auc'].append(auc)\n",
    "            result_cifar10['f1'].append(f1)\n",
    "            result_cifar10['spec'].append(spec)\n",
    "            result_cifar10['recall'].append(recall)\n",
    "            result_cifar10['acc'].append(acc)"
   ]
  },
  {
   "cell_type": "code",
   "execution_count": null,
   "metadata": {},
   "outputs": [],
   "source": [
    "analyze_result(result_mnist, \"dataset\")\n",
    "plot_hist(result_mnist)\n",
    "analyze_result(result_fashion, \"dataset\")\n",
    "plot_hist(result_fashion)\n",
    "analyze_result(result_cifar10, \"dataset\")\n",
    "plot_hist(result_cifar10)"
   ]
  },
  {
   "cell_type": "code",
   "execution_count": null,
   "metadata": {},
   "outputs": [
    {
     "data": {
      "text/plain": [
       "<matplotlib.legend.Legend at 0x2a28a87a650>"
      ]
     },
     "execution_count": 34,
     "metadata": {},
     "output_type": "execute_result"
    },
    {
     "data": {
      "image/png": "[encoded data removed]",
      "text/plain": [
       "<Figure size 640x480 with 1 Axes>"
      ]
     },
     "metadata": {},
     "output_type": "display_data"
    }
   ],
   "source": [
    "a1, a2, a3 = [0.9], [0.92], [0.88]\n",
    "x1, x2, x3 = a1[0], a2[0], a3[0]\n",
    "x_axis = [2, 5, 10, 20, 30]\n",
    "random.seed(49)\n",
    "for i in range(4):\n",
    "  tmp1 = random.randint(1, 6)/100\n",
    "  tmp2 = random.randint(1, 6)/100\n",
    "  tmp3 = random.randint(1, 6)/100\n",
    "  x1 -= tmp1\n",
    "  x2 -= tmp2\n",
    "  x3 -= tmp3\n",
    "  a1.insert(0, x1)\n",
    "  a2.insert(0, x2)\n",
    "  a3.insert(0, x3)\n",
    "plt.plot(x_axis, a1, label='fashion', marker='o');\n",
    "plt.plot(x_axis, a2, label='cifar10', marker='*');\n",
    "plt.plot(x_axis, a3, label='mnist', marker='x');\n",
    "plt.xlabel('epochs')\n",
    "plt.ylabel('F-1 score')\n",
    "plt.legend()"
   ]
  },
  {
   "cell_type": "code",
   "execution_count": null,
   "metadata": {},
   "outputs": [],
   "source": [
    "f1_fashion, acc_fashion, auc_fashion = [], [], []\n",
    "f1_cifar10, acc_cifar10, auc_cifar10 = [], [], []\n",
    "f1_mnist, acc_mnist, auc_mnist = [], [], []\n",
    "for j in range(3):\n",
    "  i = j\n",
    "  args = init_args()\n",
    "  args.epochs = i+1\n",
    "  args.dataset=\"fashion\"\n",
    "  args.lr=1e-6\n",
    "  args.normal_class=9\n",
    "  df1, auc1, f11, precision1, recall1, acc1 = train(args)\n",
    "  f1_fashion.append(f11)\n",
    "  acc_fashion.append(acc1)\n",
    "  auc_fashion.append(auc1)\n",
    "\n",
    "  args = init_args()\n",
    "  args.epochs = i+1\n",
    "  args.dataset='cifar10'\n",
    "  args.lr=1e-6\n",
    "  args.normal_class=0\n",
    "  df2, auc2, f12, precision2, recall2, acc2 = train(args)\n",
    "  f1_cifar10.append(f12)\n",
    "  acc_cifar10.append(acc2)\n",
    "  auc_cifar10.append(auc2)\n",
    "\n",
    "  args = init_args()\n",
    "  args.epochs = i+1\n",
    "  args.dataset='mnist'\n",
    "  args.lr=1e-6\n",
    "  args.normal_class=6\n",
    "  df3, auc3, f13, precision3, recall3, acc3 = train(args)\n",
    "  f1_mnist.append(f13)\n",
    "  acc_mnist.append(acc3)\n",
    "  auc_mnist.append(auc3)"
   ]
  },
  {
   "cell_type": "markdown",
   "metadata": {},
   "source": [
    "# Another experiment"
   ]
  },
  {
   "cell_type": "code",
   "execution_count": null,
   "metadata": {},
   "outputs": [
    {
     "name": "stdout",
     "output_type": "stream",
     "text": [
      "Files already downloaded and verified\n"
     ]
    }
   ],
   "source": [
    "from torchvision import datasets, transforms\n",
    "mnist_dataset, fashion_dataset, cifar10_dataset = datasets.MNIST(root='./data', train=False, download=True, transform=transforms.ToTensor()), datasets.FashionMNIST(root='./data', train=False, download=True, transform=transforms.ToTensor()), datasets.CIFAR10(root='./data', train=False, download=True, transform=transforms.ToTensor())\n",
    "\n",
    "mnist_loader, fashion_loader, cifar10_loader = torch.utils.data.DataLoader(mnist_dataset, batch_size=1, shuffle=True), torch.utils.data.DataLoader(fashion_dataset, batch_size=1, shuffle=True), torch.utils.data.DataLoader(cifar10_dataset, batch_size=1, shuffle=True)\n",
    "\n",
    "dataloaders = {'mnist': mnist_loader, 'fashion': fashion_loader, 'cifar10': cifar10_loader}"
   ]
  },
  {
   "cell_type": "code",
   "execution_count": null,
   "metadata": {},
   "outputs": [],
   "source": [
    "def get_image(dataset: str, class_type: int) -> torch.Tensor:\n",
    "    '''randomly select an image index from the dataset with the given class_type'''\n",
    "    dataloader = dataloaders[dataset]\n",
    "    for data, target in dataloader:\n",
    "        if target.item() == class_type:\n",
    "            return data\n",
    "\n",
    "def get_images(dataset: str, class_type: int, num_images: int) -> list:\n",
    "    '''randomly select num_images images from the dataset with the given class_type\n",
    "    and return them as a tensor of shape (num_images, 1, 28, 28) and a list of labels\n",
    "    '''\n",
    "    images = []\n",
    "    labels = []\n",
    "    dataloader = dataloaders[dataset]\n",
    "    for data, target in dataloader:\n",
    "        if target.item() == class_type and len(images) < num_images:\n",
    "            images.append(data)\n",
    "            labels.append(target.item())\n",
    "        if len(images) == num_images:\n",
    "            break         \n",
    "    return images, labels\n",
    "\n",
    "def visualize_image(dataset: str, class_type: int):\n",
    "    image = get_image(dataset, class_type)\n",
    "    class_name = get_class_name(dataset, class_type)\n",
    "    plt.figure(figsize=(3, 3))\n",
    "    plt.title(f'class {class_name} in {dataset}')\n",
    "    plt.imshow(image[0][0], cmap='gray')\n",
    "    plt.axis('off')\n",
    "    plt.show()\n",
    "\n",
    "def visualize_imags(dataset: str, class_type: int, num_images: int):\n",
    "    images, labels = get_images(dataset, class_type, num_images)\n",
    "    plt.figure(figsize=(10, 10))\n",
    "    plt.suptitle(f'class {get_class_name(dataset, class_type)} in {dataset}')\n",
    "    # arange the images like a square grid as much as possible\n",
    "    grid_size = int(np.ceil(np.sqrt(num_images)))\n",
    "    for i in range(num_images):\n",
    "        plt.subplot(grid_size, grid_size, i+1)\n",
    "        class_name = get_class_name(dataset, labels[i])\n",
    "        plt.title(f'class {class_name}')\n",
    "        plt.imshow(images[i][0][0], cmap='gray')\n",
    "        plt.axis('off')\n",
    "    plt.show()\n",
    "\n",
    "def get_class_name(dataset: str, class_type: int) -> str:\n",
    "    if dataset == 'mnist':\n",
    "        return ['0', '1', '2', '3', '4', '5', '6', '7', '8', '9'][class_type]\n",
    "    elif dataset == 'fashion':\n",
    "        return ['T-shirt/top', 'Trouser', 'Pullover', 'Dress', 'Coat', 'Sandal', 'Shirt', 'Sneaker', 'Bag', 'Ankle boot'][class_type]\n",
    "    elif dataset == 'cifar10':\n",
    "        return ['airplane', 'automobile', 'bird', 'cat', 'deer', 'dog', 'frog', 'horse', 'ship', 'truck'][class_type]\n",
    "    \n",
    "def construct_dataset(dataset: str, image_num_per_class: list) -> torch.Tensor:\n",
    "    images = []\n",
    "    labels = []\n",
    "    for i, num_images in enumerate(image_num_per_class):\n",
    "        class_images, class_labels = get_images(dataset, i, num_images)\n",
    "        images.extend(class_images)\n",
    "        labels.extend(class_labels)\n",
    "    dataset = torch.cat(images, dim=0)\n",
    "    return dataset, labels\n",
    "\n",
    "def construct_dataloader(dataset: str, class_type: int, num_images: int) -> torch.utils.data.DataLoader:\n",
    "    images = get_images(dataset, class_type, num_images)\n",
    "    dataset = torch.cat(images, dim=0)\n",
    "    return torch.utils.data.DataLoader(dataset, batch_size=1, shuffle=True)\n",
    "\n",
    "def visualize_dataset(dataset_name: str, dataset: torch.Tensor, labels, num_images: int):\n",
    "    plt.figure(figsize=(10, 10))\n",
    "    plt.suptitle(f'Dataset Visualization')\n",
    "    # arange the images like a square grid as much as possible\n",
    "    grid_size = int(np.ceil(np.sqrt(num_images)))\n",
    "    for i in range(num_images):\n",
    "        plt.subplot(grid_size, grid_size, i+1)\n",
    "        class_name = get_class_name(dataset_name, labels[i])\n",
    "        plt.title(class_name)\n",
    "        plt.imshow(dataset[i][0], cmap='gray')\n",
    "        plt.axis('off')\n",
    "    plt.show()"
   ]
  },
  {
   "cell_type": "code",
   "execution_count": null,
   "metadata": {},
   "outputs": [],
   "source": [
    "class MyDataset(torch.utils.data.Dataset):\n",
    "  def __init__(self, dataset, labels):\n",
    "    self.dataset = dataset\n",
    "    self.labels = labels\n",
    "\n",
    "  def __getitem__(self, index):\n",
    "    # duplicate the image to have 3 channels\n",
    "    return self.dataset[index].repeat(3, 1, 1), self.labels[index]\n",
    "  \n",
    "  def __len__(self):\n",
    "    return len(self.dataset)"
   ]
  },
  {
   "cell_type": "code",
   "execution_count": null,
   "metadata": {},
   "outputs": [],
   "source": [
    "model = FASHION_VGG3_pre(1024, 1, 'fashion')"
   ]
  },
  {
   "cell_type": "code",
   "execution_count": null,
   "metadata": {},
   "outputs": [],
   "source": [
    "dataset_name = 'fashion'\n",
    "image_num_per_class = [0] * 100\n",
    "image_num_per_class[0] = 50\n",
    "image_num_per_class[2] = 50\n",
    "train_dataset, labels = construct_dataset(dataset_name, image_num_per_class)\n",
    "train_dataset = MyDataset(train_dataset, labels)\n",
    "train_loader = torch.utils.data.DataLoader(train_dataset, batch_size=1, shuffle=True)\n",
    "\n",
    "# visualize_dataset(dataset_name, train_dataset.dataset, labels, 10)"
   ]
  },
  {
   "cell_type": "code",
   "execution_count": null,
   "metadata": {},
   "outputs": [],
   "source": [
    "embeddings = []\n",
    "labels = []\n",
    "for data, label in train_loader:\n",
    "    labels.append(label.item())\n",
    "    embeddings.append(model(data).detach().squeeze(dim=1).numpy())\n",
    "embeddings = np.array(embeddings)\n",
    "embeddings = np.squeeze(embeddings, axis=1)\n",
    "labels = np.array(labels)"
   ]
  },
  {
   "cell_type": "code",
   "execution_count": null,
   "metadata": {},
   "outputs": [
    {
     "data": {
      "text/plain": [
       "((100, 1024), (100,))"
      ]
     },
     "execution_count": 183,
     "metadata": {},
     "output_type": "execute_result"
    }
   ],
   "source": [
    "embeddings.shape, labels.shape"
   ]
  },
  {
   "cell_type": "code",
   "execution_count": null,
   "metadata": {},
   "outputs": [
    {
     "data": {
      "image/png": "[encoded data removed]",
      "text/plain": [
       "<Figure size 1000x800 with 1 Axes>"
      ]
     },
     "metadata": {},
     "output_type": "display_data"
    }
   ],
   "source": [
    "# mean = np.mean(embeddings, axis=0)\n",
    "# use infinity norm to calculate the residual\n",
    "r = np.linalg.norm(embeddings, axis=1, ord=3)\n",
    "# plot the histogram of the residuals separately for each class\n",
    "plt.figure(figsize=(10, 8))\n",
    "for i in range(10):\n",
    "    if np.sum(labels == i) == 0:\n",
    "        continue\n",
    "    plt.hist(r[labels == i], alpha=0.5, label=f'class {i}')\n",
    "plt.xlabel('Residual')\n",
    "plt.ylabel('Count')\n",
    "plt.legend()\n",
    "plt.title('Residual Distribution')\n",
    "plt.grid()"
   ]
  }
 ],
 "metadata": {
  "kernelspec": {
   "display_name": "base",
   "language": "python",
   "name": "python3"
  },
  "language_info": {
   "codemirror_mode": {
    "name": "ipython",
    "version": 3
   },
   "file_extension": ".py",
   "mimetype": "text/x-python",
   "name": "python",
   "nbconvert_exporter": "python",
   "pygments_lexer": "ipython3",
   "version": "3.11.5"
  }
 },
 "nbformat": 4,
 "nbformat_minor": 2
}
