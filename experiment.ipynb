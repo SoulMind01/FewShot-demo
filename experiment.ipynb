{
 "cells": [
  {
   "cell_type": "code",
   "execution_count": 1,
   "metadata": {},
   "outputs": [],
   "source": [
    "import sys\n",
    "import os\n",
    "import warnings\n",
    "warnings.filterwarnings('ignore', 'The parameter \\'pretrained\\' is deprecated')\n",
    "warnings.filterwarnings('ignore', 'Arguments other than a weight enum or `None` for \\'weights\\' are deprecated')\n",
    "\n",
    "def is_colab():\n",
    "    for key in os.environ.keys():\n",
    "        if \"COLAB\" in key:\n",
    "            return True\n",
    "    return False\n",
    "\n",
    "if is_colab():\n",
    "  !git clone https://github.com/SoulMind01/FewShot-demo.git\n",
    "  # Get the current working directory\n",
    "  current_working_directory = os.getcwd()\n",
    "  # Add the \"my_folder\" folder to the import path\n",
    "  sys.path.append(current_working_directory + \"/FewShot-demo\")\n",
    "  from google.colab import drive\n",
    "  drive.mount('/content/drive')\n",
    "  json_path = 'FewShot-demo/config.json'\n",
    "else:\n",
    "  json_path = 'config.json'\n",
    "\n",
    "import functions\n",
    "from functions import do_experiment\n",
    "from arguments import ARGUMENTS, init_args, reset_args\n",
    "import matplotlib.pyplot as plt\n",
    "import numpy as np\n",
    "from train import train\n",
    "import importlib\n",
    "\n",
    "def reload_func():\n",
    "  importlib.reload(functions)"
   ]
  },
  {
   "cell_type": "markdown",
   "metadata": {},
   "source": [
    "## Define arguments"
   ]
  },
  {
   "cell_type": "code",
   "execution_count": 2,
   "metadata": {},
   "outputs": [],
   "source": [
    "args = init_args()"
   ]
  },
  {
   "cell_type": "markdown",
   "metadata": {},
   "source": [
    "## Do experiments together"
   ]
  },
  {
   "cell_type": "code",
   "execution_count": null,
   "metadata": {},
   "outputs": [],
   "source": [
    "import json\n",
    "from tqdm import tqdm\n",
    "num_test_data = 500\n",
    "class_range = np.arange(0, 10, 1)\n",
    "test_experiment = False\n",
    "args = init_args()\n",
    "args.evaluation_method = 'anomaly_score'\n",
    "\n",
    "with open(json_path, 'r') as f:\n",
    "  config = json.load(f)\n",
    "conf_features = config['features']\n",
    "conf_feature_ranges = config['feature_ranges']\n",
    "conf_specify_xticks = config['specify_xticks']\n",
    "\n",
    "\n",
    "for feature in tqdm(conf_features, desc=f'Running experiment'):\n",
    "  if not feature in ['num_ref']: continue\n",
    "  args = reset_args(args)\n",
    "  experiment_name = f'{feature}_experiment'\n",
    "  feature_name = feature\n",
    "  feature_range = np.arange(\n",
    "    conf_feature_ranges[feature][0],\n",
    "    conf_feature_ranges[feature][1],\n",
    "    conf_feature_ranges[feature][2]\n",
    "  )\n",
    "  specify_xticks = np.arange(\n",
    "    conf_specify_xticks[feature][0],\n",
    "    conf_specify_xticks[feature][1],\n",
    "    conf_specify_xticks[feature][2]\n",
    "  ) if feature in conf_specify_xticks else None\n",
    "  do_experiment(\n",
    "    args=args,\n",
    "    experiment_name=experiment_name,\n",
    "    feature_name=feature_name,\n",
    "    feature_range=feature_range,\n",
    "    num_test_data=num_test_data,\n",
    "    class_range=class_range,\n",
    "    test_experiment=test_experiment,\n",
    "    specify_xticks=specify_xticks\n",
    "  )"
   ]
  },
  {
   "cell_type": "markdown",
   "metadata": {},
   "source": [
    "## Do light experiment"
   ]
  },
  {
   "cell_type": "code",
   "execution_count": null,
   "metadata": {},
   "outputs": [],
   "source": [
    "args = init_args()\n",
    "train(args, 100);"
   ]
  },
  {
   "cell_type": "markdown",
   "metadata": {},
   "source": [
    "## Do experiment along class"
   ]
  },
  {
   "cell_type": "code",
   "execution_count": null,
   "metadata": {},
   "outputs": [],
   "source": [
    "# do_experiment(\n",
    "#     args=args,\n",
    "#     experiment_name='class_experiment',\n",
    "#     feature_name='class',\n",
    "#     feature_range=np.arange(0, 1, 1), # class experiment do test any feature\n",
    "#     num_test_data=500,\n",
    "#     class_range=np.arange(0, 2, 1),\n",
    "#     test_experiment=True,\n",
    "#     lock_feature=True, # class experiment do test any feature\n",
    "#     boxplot=False,\n",
    "# )"
   ]
  },
  {
   "cell_type": "markdown",
   "metadata": {},
   "source": [
    "## Do experiment along epochs"
   ]
  },
  {
   "cell_type": "code",
   "execution_count": null,
   "metadata": {},
   "outputs": [],
   "source": [
    "epochs_range = np.arange(4, 14, 1)\n",
    "do_experiment(\n",
    "    args=args,\n",
    "    experiment_name='epochs_experiment',\n",
    "    feature_name='epochs',\n",
    "    feature_range=epochs_range,\n",
    "    num_test_data=500,\n",
    "    class_range=np.arange(0, 10, 1),\n",
    ")"
   ]
  },
  {
   "cell_type": "markdown",
   "metadata": {},
   "source": [
    "## Do experiment along alpha"
   ]
  },
  {
   "cell_type": "code",
   "execution_count": null,
   "metadata": {},
   "outputs": [],
   "source": [
    "args = init_args()\n",
    "args.evaluation_method = 'closest_dist'"
   ]
  },
  {
   "cell_type": "code",
   "execution_count": null,
   "metadata": {},
   "outputs": [],
   "source": [
    "alpha_range = np.arange(0, 1.1, 0.1)\n",
    "do_experiment(\n",
    "    args=args,\n",
    "    experiment_name='alpha_experiment',\n",
    "    feature_name='alpha',\n",
    "    feature_range=alpha_range,\n",
    "    num_test_data=500,\n",
    "    class_range=np.arange(0, 10, 1),\n",
    "    test_experiment=False,\n",
    "    specify_xticks=np.arange(0, 11, 1),\n",
    ")"
   ]
  },
  {
   "cell_type": "markdown",
   "metadata": {},
   "source": [
    "## Do experiment along contamination"
   ]
  },
  {
   "cell_type": "code",
   "execution_count": null,
   "metadata": {},
   "outputs": [],
   "source": [
    "contamination_range = np.arange(0, 0.5, 0.05)\n",
    "do_experiment(\n",
    "    args=args,\n",
    "    experiment_name='contamination_experiment',\n",
    "    feature_name='contamination',\n",
    "    feature_range=contamination_range,\n",
    "    num_test_data=500,\n",
    "    class_range=np.arange(0, 10, 1),\n",
    "    quick_run=False,\n",
    "    test_experiment=True,\n",
    "    specify_xticks=np.arange(0, 10, 1),\n",
    ")"
   ]
  },
  {
   "cell_type": "markdown",
   "metadata": {},
   "source": [
    "## Do experiment along train dataset size"
   ]
  },
  {
   "cell_type": "code",
   "execution_count": null,
   "metadata": {},
   "outputs": [],
   "source": [
    "args = init_args()"
   ]
  },
  {
   "cell_type": "code",
   "execution_count": null,
   "metadata": {},
   "outputs": [],
   "source": [
    "N_range = np.arange(10, 40, 3)\n",
    "do_experiment(\n",
    "    args=args,\n",
    "    experiment_name='N_experiment',\n",
    "    feature_name='num_ref',\n",
    "    feature_range=N_range,\n",
    "    num_test_data=500,\n",
    "    class_range=np.arange(0, 1, 1),\n",
    ")"
   ]
  },
  {
   "cell_type": "markdown",
   "metadata": {},
   "source": [
    "## Do experiment along train reference dataset size"
   ]
  },
  {
   "cell_type": "code",
   "execution_count": null,
   "metadata": {},
   "outputs": [],
   "source": [
    "k_range = np.arange(1, 10, 1)\n",
    "do_experiment(\n",
    "    args=args,\n",
    "    experiment_name='k_experiment',\n",
    "    feature_name='k',\n",
    "    feature_range=k_range,\n",
    "    num_test_data=500,\n",
    "    class_range=np.arange(0, 10, 1),\n",
    "    quick_run=False,\n",
    "    test_experiment=False\n",
    ")"
   ]
  },
  {
   "cell_type": "markdown",
   "metadata": {},
   "source": [
    "## Do experiment along test reference dataset size"
   ]
  },
  {
   "cell_type": "code",
   "execution_count": null,
   "metadata": {},
   "outputs": [],
   "source": [
    "num_ref_eval_range = np.arange(2, 11, 1)\n",
    "do_experiment(\n",
    "    args=args,\n",
    "    experiment_name='num_ref_eval_experiment',\n",
    "    feature_name='num_ref_eval',\n",
    "    feature_range=num_ref_eval_range,\n",
    "    num_test_data=500,\n",
    "    class_range=np.arange(0, 10, 1),\n",
    ")"
   ]
  },
  {
   "cell_type": "markdown",
   "metadata": {},
   "source": [
    "## Do experiment along weight decay"
   ]
  },
  {
   "cell_type": "code",
   "execution_count": null,
   "metadata": {},
   "outputs": [],
   "source": [
    "# weight_decay_range = np.arange(0, 1, 0.1)\n",
    "# do_experiment(\n",
    "#     args=args,\n",
    "#     experiment_name='weight_decay_experiment',\n",
    "#     feature_name='weight_decay',\n",
    "#     feature_range=weight_decay_range,\n",
    "#     num_test_data=500,\n",
    "#     class_range=np.arange(0, 10, 1),\n",
    "#     test_experiment=False,\n",
    "#     boxplot=False,\n",
    "# )"
   ]
  },
  {
   "cell_type": "markdown",
   "metadata": {},
   "source": [
    "## Do experiment along learning rate"
   ]
  },
  {
   "cell_type": "code",
   "execution_count": null,
   "metadata": {},
   "outputs": [],
   "source": [
    "# learning_rate_range = np.arange(1e-6, 1e-5, 1e-6)\n",
    "# do_experiment(\n",
    "#     args=args,\n",
    "#     experiment_name='learning_rate_experiment',\n",
    "#     feature_name='learning rate',\n",
    "#     feature_range=learning_rate_range,\n",
    "#     num_test_data=500,\n",
    "#     class_range=np.array(args.normal_class),\n",
    "#     quick_run=False,\n",
    "#     test_experiment=False,\n",
    "#     specify_xticks=np.arange(0, 9, 1),\n",
    "# )"
   ]
  },
  {
   "cell_type": "markdown",
   "metadata": {},
   "source": [
    "## Do experiment along vector size"
   ]
  },
  {
   "cell_type": "code",
   "execution_count": null,
   "metadata": {},
   "outputs": [],
   "source": [
    "vector_size_range = np.arange(256, 4097, 256)\n",
    "do_experiment(\n",
    "    args=args,\n",
    "    experiment_name='vector_size_experiment',\n",
    "    feature_name='vector_size',\n",
    "    feature_range=vector_size_range,\n",
    "    num_test_data=500,\n",
    "    class_range=np.arange(0, 10, 1),\n",
    "    quick_run=False,\n",
    "    test_experiment=True,\n",
    "    specify_xticks=np.arange(0, len(vector_size_range), 1),\n",
    ")"
   ]
  },
  {
   "cell_type": "markdown",
   "metadata": {},
   "source": [
    "# Comparative experiments"
   ]
  },
  {
   "cell_type": "markdown",
   "metadata": {},
   "source": [
    "## Compare each distance methods"
   ]
  },
  {
   "cell_type": "code",
   "execution_count": 3,
   "metadata": {},
   "outputs": [
    {
     "name": "stdout",
     "output_type": "stream",
     "text": [
      "Results loaded from file\n",
      "c:\\Users\\11709\\Desktop\\PROJECTS\\FewShot-demo\\anomaly_score_results\n"
     ]
    },
    {
     "data": {
      "image/png": "[encoded data removed]",
      "text/plain": [
       "<Figure size 1500x500 with 3 Axes>"
      ]
     },
     "metadata": {},
     "output_type": "display_data"
    }
   ],
   "source": [
    "args = init_args()\n",
    "feature_name = 'distance_method'\n",
    "feature_range = ['multi', 'L1', 'L2', 'L3', 'L4', 'inf']\n",
    "\n",
    "\n",
    "experiment_name = f'{feature_name}_experiment'\n",
    "do_experiment(\n",
    "    args=args,\n",
    "    experiment_name=experiment_name,\n",
    "    feature_name=feature_name,\n",
    "    feature_range=feature_range,\n",
    "    num_test_data=500,\n",
    "    class_range=np.arange(0, 10, 1),\n",
    "    test_experiment=True,\n",
    "    compare_stats=['auc', 'f1'],\n",
    ")"
   ]
  },
  {
   "cell_type": "markdown",
   "metadata": {},
   "source": [
    "## Compare each activation function"
   ]
  },
  {
   "cell_type": "code",
   "execution_count": null,
   "metadata": {},
   "outputs": [],
   "source": []
  }
 ],
 "metadata": {
  "kernelspec": {
   "display_name": "base",
   "language": "python",
   "name": "python3"
  },
  "language_info": {
   "codemirror_mode": {
    "name": "ipython",
    "version": 3
   },
   "file_extension": ".py",
   "mimetype": "text/x-python",
   "name": "python",
   "nbconvert_exporter": "python",
   "pygments_lexer": "ipython3",
   "version": "3.11.5"
  }
 },
 "nbformat": 4,
 "nbformat_minor": 2
}
